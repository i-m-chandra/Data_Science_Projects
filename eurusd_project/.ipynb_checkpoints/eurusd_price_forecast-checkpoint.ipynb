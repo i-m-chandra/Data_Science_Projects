{
 "cells": [
  {
   "cell_type": "code",
   "execution_count": 1,
   "metadata": {},
   "outputs": [],
   "source": [
    "import os"
   ]
  },
  {
   "cell_type": "code",
   "execution_count": 2,
   "metadata": {},
   "outputs": [],
   "source": [
    "import numpy as np"
   ]
  },
  {
   "cell_type": "code",
   "execution_count": 3,
   "metadata": {},
   "outputs": [],
   "source": [
    "import pandas as pd"
   ]
  },
  {
   "cell_type": "code",
   "execution_count": 4,
   "metadata": {},
   "outputs": [],
   "source": [
    "import matplotlib.pyplot as plt"
   ]
  },
  {
   "cell_type": "code",
   "execution_count": 5,
   "metadata": {},
   "outputs": [],
   "source": [
    "import seaborn as sns"
   ]
  },
  {
   "cell_type": "code",
   "execution_count": 7,
   "metadata": {},
   "outputs": [],
   "source": [
    "from sklearn.preprocessing import MinMaxScaler"
   ]
  },
  {
   "cell_type": "code",
   "execution_count": 8,
   "metadata": {},
   "outputs": [],
   "source": [
    "from subprocess import check_output"
   ]
  },
  {
   "cell_type": "code",
   "execution_count": 15,
   "metadata": {},
   "outputs": [
    {
     "data": {
      "text/plain": [
       "'/home/imchandra/Desktop/Github_files/First_Repo/eurusd_project'"
      ]
     },
     "execution_count": 15,
     "metadata": {},
     "output_type": "execute_result"
    }
   ],
   "source": [
    "os.getcwd()"
   ]
  },
  {
   "cell_type": "code",
   "execution_count": 20,
   "metadata": {},
   "outputs": [],
   "source": [
    "eurusd_data=pd.read_csv(\"/home/imchandra/Desktop/Github_files/First_Repo/eurusd_project/eurusd_data/EURUSD_15m_BID_01.01.2010-31.12.2016.csv\")"
   ]
  },
  {
   "cell_type": "code",
   "execution_count": 22,
   "metadata": {},
   "outputs": [
    {
     "data": {
      "text/html": [
       "<div>\n",
       "<style scoped>\n",
       "    .dataframe tbody tr th:only-of-type {\n",
       "        vertical-align: middle;\n",
       "    }\n",
       "\n",
       "    .dataframe tbody tr th {\n",
       "        vertical-align: top;\n",
       "    }\n",
       "\n",
       "    .dataframe thead th {\n",
       "        text-align: right;\n",
       "    }\n",
       "</style>\n",
       "<table border=\"1\" class=\"dataframe\">\n",
       "  <thead>\n",
       "    <tr style=\"text-align: right;\">\n",
       "      <th></th>\n",
       "      <th>Time</th>\n",
       "      <th>Open</th>\n",
       "      <th>High</th>\n",
       "      <th>Low</th>\n",
       "      <th>Close</th>\n",
       "      <th>Volume</th>\n",
       "    </tr>\n",
       "  </thead>\n",
       "  <tbody>\n",
       "    <tr>\n",
       "      <th>0</th>\n",
       "      <td>2010-01-01 00:00</td>\n",
       "      <td>1.43283</td>\n",
       "      <td>1.43293</td>\n",
       "      <td>1.43224</td>\n",
       "      <td>1.43293</td>\n",
       "      <td>608600007.1</td>\n",
       "    </tr>\n",
       "    <tr>\n",
       "      <th>1</th>\n",
       "      <td>2010-01-01 00:15</td>\n",
       "      <td>1.43285</td>\n",
       "      <td>1.43295</td>\n",
       "      <td>1.43229</td>\n",
       "      <td>1.43275</td>\n",
       "      <td>535600003.2</td>\n",
       "    </tr>\n",
       "    <tr>\n",
       "      <th>2</th>\n",
       "      <td>2010-01-01 00:30</td>\n",
       "      <td>1.43280</td>\n",
       "      <td>1.43303</td>\n",
       "      <td>1.43239</td>\n",
       "      <td>1.43281</td>\n",
       "      <td>436299999.2</td>\n",
       "    </tr>\n",
       "    <tr>\n",
       "      <th>3</th>\n",
       "      <td>2010-01-01 00:45</td>\n",
       "      <td>1.43285</td>\n",
       "      <td>1.43294</td>\n",
       "      <td>1.43229</td>\n",
       "      <td>1.43276</td>\n",
       "      <td>614299997.3</td>\n",
       "    </tr>\n",
       "    <tr>\n",
       "      <th>4</th>\n",
       "      <td>2010-01-01 01:00</td>\n",
       "      <td>1.43287</td>\n",
       "      <td>1.43292</td>\n",
       "      <td>1.43206</td>\n",
       "      <td>1.43282</td>\n",
       "      <td>705300008.8</td>\n",
       "    </tr>\n",
       "    <tr>\n",
       "      <th>5</th>\n",
       "      <td>2010-01-01 01:15</td>\n",
       "      <td>1.43290</td>\n",
       "      <td>1.43299</td>\n",
       "      <td>1.43212</td>\n",
       "      <td>1.43292</td>\n",
       "      <td>427300005.9</td>\n",
       "    </tr>\n",
       "    <tr>\n",
       "      <th>6</th>\n",
       "      <td>2010-01-01 01:30</td>\n",
       "      <td>1.43267</td>\n",
       "      <td>1.43305</td>\n",
       "      <td>1.43209</td>\n",
       "      <td>1.43282</td>\n",
       "      <td>399200000.8</td>\n",
       "    </tr>\n",
       "    <tr>\n",
       "      <th>7</th>\n",
       "      <td>2010-01-01 01:45</td>\n",
       "      <td>1.43280</td>\n",
       "      <td>1.43302</td>\n",
       "      <td>1.43218</td>\n",
       "      <td>1.43249</td>\n",
       "      <td>481200008.4</td>\n",
       "    </tr>\n",
       "    <tr>\n",
       "      <th>8</th>\n",
       "      <td>2010-01-01 02:00</td>\n",
       "      <td>1.43279</td>\n",
       "      <td>1.43303</td>\n",
       "      <td>1.43237</td>\n",
       "      <td>1.43301</td>\n",
       "      <td>607599996.6</td>\n",
       "    </tr>\n",
       "    <tr>\n",
       "      <th>9</th>\n",
       "      <td>2010-01-01 02:15</td>\n",
       "      <td>1.43301</td>\n",
       "      <td>1.43303</td>\n",
       "      <td>1.43222</td>\n",
       "      <td>1.43271</td>\n",
       "      <td>469600000.4</td>\n",
       "    </tr>\n",
       "  </tbody>\n",
       "</table>\n",
       "</div>"
      ],
      "text/plain": [
       "               Time     Open     High      Low    Close       Volume\n",
       "0  2010-01-01 00:00  1.43283  1.43293  1.43224  1.43293  608600007.1\n",
       "1  2010-01-01 00:15  1.43285  1.43295  1.43229  1.43275  535600003.2\n",
       "2  2010-01-01 00:30  1.43280  1.43303  1.43239  1.43281  436299999.2\n",
       "3  2010-01-01 00:45  1.43285  1.43294  1.43229  1.43276  614299997.3\n",
       "4  2010-01-01 01:00  1.43287  1.43292  1.43206  1.43282  705300008.8\n",
       "5  2010-01-01 01:15  1.43290  1.43299  1.43212  1.43292  427300005.9\n",
       "6  2010-01-01 01:30  1.43267  1.43305  1.43209  1.43282  399200000.8\n",
       "7  2010-01-01 01:45  1.43280  1.43302  1.43218  1.43249  481200008.4\n",
       "8  2010-01-01 02:00  1.43279  1.43303  1.43237  1.43301  607599996.6\n",
       "9  2010-01-01 02:15  1.43301  1.43303  1.43222  1.43271  469600000.4"
      ]
     },
     "execution_count": 22,
     "metadata": {},
     "output_type": "execute_result"
    }
   ],
   "source": [
    "eurusd_data.head(10)"
   ]
  },
  {
   "cell_type": "code",
   "execution_count": 23,
   "metadata": {},
   "outputs": [
    {
     "data": {
      "text/plain": [
       "Time      245444\n",
       "Open      245444\n",
       "High      245444\n",
       "Low       245444\n",
       "Close     245444\n",
       "Volume    245444\n",
       "dtype: int64"
      ]
     },
     "execution_count": 23,
     "metadata": {},
     "output_type": "execute_result"
    }
   ],
   "source": [
    "eurusd_data.count()"
   ]
  },
  {
   "cell_type": "code",
   "execution_count": 24,
   "metadata": {},
   "outputs": [],
   "source": [
    "sa_data=pd.read_csv(\"/home/imchandra/Desktop/Github_files/First_Repo/eurusd_project/eurusd_data/EURUSD_15m_BID_sample.csv\")"
   ]
  },
  {
   "cell_type": "code",
   "execution_count": 25,
   "metadata": {},
   "outputs": [
    {
     "data": {
      "text/html": [
       "<div>\n",
       "<style scoped>\n",
       "    .dataframe tbody tr th:only-of-type {\n",
       "        vertical-align: middle;\n",
       "    }\n",
       "\n",
       "    .dataframe tbody tr th {\n",
       "        vertical-align: top;\n",
       "    }\n",
       "\n",
       "    .dataframe thead th {\n",
       "        text-align: right;\n",
       "    }\n",
       "</style>\n",
       "<table border=\"1\" class=\"dataframe\">\n",
       "  <thead>\n",
       "    <tr style=\"text-align: right;\">\n",
       "      <th></th>\n",
       "      <th>Time</th>\n",
       "      <th>Open</th>\n",
       "      <th>High</th>\n",
       "      <th>Low</th>\n",
       "      <th>Close</th>\n",
       "      <th>Volume</th>\n",
       "    </tr>\n",
       "  </thead>\n",
       "  <tbody>\n",
       "    <tr>\n",
       "      <th>0</th>\n",
       "      <td>2015-12-29 00:00</td>\n",
       "      <td>1.09746</td>\n",
       "      <td>1.09783</td>\n",
       "      <td>1.09741</td>\n",
       "      <td>1.09772</td>\n",
       "      <td>4.866800e+08</td>\n",
       "    </tr>\n",
       "    <tr>\n",
       "      <th>1</th>\n",
       "      <td>2015-12-29 00:15</td>\n",
       "      <td>1.09772</td>\n",
       "      <td>1.09800</td>\n",
       "      <td>1.09770</td>\n",
       "      <td>1.09790</td>\n",
       "      <td>4.459200e+08</td>\n",
       "    </tr>\n",
       "    <tr>\n",
       "      <th>2</th>\n",
       "      <td>2015-12-29 00:30</td>\n",
       "      <td>1.09790</td>\n",
       "      <td>1.09805</td>\n",
       "      <td>1.09782</td>\n",
       "      <td>1.09792</td>\n",
       "      <td>1.210700e+09</td>\n",
       "    </tr>\n",
       "    <tr>\n",
       "      <th>3</th>\n",
       "      <td>2015-12-29 00:45</td>\n",
       "      <td>1.09792</td>\n",
       "      <td>1.09825</td>\n",
       "      <td>1.09775</td>\n",
       "      <td>1.09808</td>\n",
       "      <td>1.116910e+09</td>\n",
       "    </tr>\n",
       "    <tr>\n",
       "      <th>4</th>\n",
       "      <td>2015-12-29 01:00</td>\n",
       "      <td>1.09808</td>\n",
       "      <td>1.09824</td>\n",
       "      <td>1.09791</td>\n",
       "      <td>1.09822</td>\n",
       "      <td>5.038800e+08</td>\n",
       "    </tr>\n",
       "  </tbody>\n",
       "</table>\n",
       "</div>"
      ],
      "text/plain": [
       "               Time     Open     High      Low    Close        Volume\n",
       "0  2015-12-29 00:00  1.09746  1.09783  1.09741  1.09772  4.866800e+08\n",
       "1  2015-12-29 00:15  1.09772  1.09800  1.09770  1.09790  4.459200e+08\n",
       "2  2015-12-29 00:30  1.09790  1.09805  1.09782  1.09792  1.210700e+09\n",
       "3  2015-12-29 00:45  1.09792  1.09825  1.09775  1.09808  1.116910e+09\n",
       "4  2015-12-29 01:00  1.09808  1.09824  1.09791  1.09822  5.038800e+08"
      ]
     },
     "execution_count": 25,
     "metadata": {},
     "output_type": "execute_result"
    }
   ],
   "source": [
    "sa_data.head()"
   ]
  },
  {
   "cell_type": "code",
   "execution_count": 26,
   "metadata": {},
   "outputs": [
    {
     "data": {
      "text/plain": [
       "Time      14880\n",
       "Open      14880\n",
       "High      14880\n",
       "Low       14880\n",
       "Close     14880\n",
       "Volume    14880\n",
       "dtype: int64"
      ]
     },
     "execution_count": 26,
     "metadata": {},
     "output_type": "execute_result"
    }
   ],
   "source": [
    "sa_data.count()"
   ]
  },
  {
   "cell_type": "code",
   "execution_count": 28,
   "metadata": {},
   "outputs": [
    {
     "data": {
      "text/plain": [
       "(0, 14879)"
      ]
     },
     "execution_count": 28,
     "metadata": {},
     "output_type": "execute_result"
    }
   ],
   "source": [
    "sa_data.index.min() , sa_data.index.max()"
   ]
  },
  {
   "cell_type": "code",
   "execution_count": null,
   "metadata": {},
   "outputs": [],
   "source": []
  }
 ],
 "metadata": {
  "kernelspec": {
   "display_name": "Python 3",
   "language": "python",
   "name": "python3"
  },
  "language_info": {
   "codemirror_mode": {
    "name": "ipython",
    "version": 3
   },
   "file_extension": ".py",
   "mimetype": "text/x-python",
   "name": "python",
   "nbconvert_exporter": "python",
   "pygments_lexer": "ipython3",
   "version": "3.7.3"
  }
 },
 "nbformat": 4,
 "nbformat_minor": 2
}
